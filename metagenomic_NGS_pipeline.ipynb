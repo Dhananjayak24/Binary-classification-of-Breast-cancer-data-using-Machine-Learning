{
  "nbformat": 4,
  "nbformat_minor": 0,
  "metadata": {
    "colab": {
      "provenance": [],
      "mount_file_id": "11A9gibSKEGNf7iSEMlI85kelS38ILXNL",
      "authorship_tag": "ABX9TyNbwSM7G4g66UYyciEO9xtO",
      "include_colab_link": true
    },
    "kernelspec": {
      "name": "python3",
      "display_name": "Python 3"
    },
    "language_info": {
      "name": "python"
    }
  },
  "cells": [
    {
      "cell_type": "markdown",
      "metadata": {
        "id": "view-in-github",
        "colab_type": "text"
      },
      "source": [
        "<a href=\"https://colab.research.google.com/github/Dhananjayak24/Binary-classification-of-Breast-cancer-data-using-Machine-Learning/blob/main/metagenomic_NGS_pipeline.ipynb\" target=\"_parent\"><img src=\"https://colab.research.google.com/assets/colab-badge.svg\" alt=\"Open In Colab\"/></a>"
      ]
    },
    {
      "cell_type": "markdown",
      "source": [
        "##Installing necessary packages"
      ],
      "metadata": {
        "id": "CPTpkmHD8K5L"
      }
    },
    {
      "cell_type": "code",
      "execution_count": 1,
      "metadata": {
        "colab": {
          "base_uri": "https://localhost:8080/"
        },
        "id": "VeTdFcnI2ymd",
        "outputId": "c673121b-1300-41d8-c8ff-ea6323404565"
      },
      "outputs": [
        {
          "output_type": "stream",
          "name": "stdout",
          "text": [
            "--2024-05-08 15:52:47--  https://repo.anaconda.com/miniconda/Miniconda3-latest-Linux-x86_64.sh\n",
            "Resolving repo.anaconda.com (repo.anaconda.com)... 104.16.32.241, 104.16.191.158, 2606:4700::6810:bf9e, ...\n",
            "Connecting to repo.anaconda.com (repo.anaconda.com)|104.16.32.241|:443... connected.\n",
            "HTTP request sent, awaiting response... 200 OK\n",
            "Length: 143351488 (137M) [application/octet-stream]\n",
            "Saving to: ‘Miniconda3-latest-Linux-x86_64.sh’\n",
            "\n",
            "Miniconda3-latest-L 100%[===================>] 136.71M  55.5MB/s    in 2.5s    \n",
            "\n",
            "2024-05-08 15:52:49 (55.5 MB/s) - ‘Miniconda3-latest-Linux-x86_64.sh’ saved [143351488/143351488]\n",
            "\n",
            "PREFIX=/usr/local\n",
            "Unpacking payload ...\n",
            "\n",
            "Installing base environment...\n",
            "\n",
            "Preparing transaction: ...working... done\n",
            "Executing transaction: ...working... done\n",
            "installation finished.\n",
            "WARNING:\n",
            "    You currently have a PYTHONPATH environment variable set. This may cause\n",
            "    unexpected behavior when running the Python interpreter in Miniconda3.\n",
            "    For best results, please verify that your PYTHONPATH only points to\n",
            "    directories of packages that are compatible with the Python interpreter\n",
            "    in Miniconda3: /usr/local\n"
          ]
        }
      ],
      "source": [
        "# Step 1: Install Miniconda\n",
        "!wget https://repo.anaconda.com/miniconda/Miniconda3-latest-Linux-x86_64.sh\n",
        "!bash Miniconda3-latest-Linux-x86_64.sh -bfp /usr/local\n",
        "import sys\n",
        "sys.path.append('/usr/local/lib/python3.7/site-packages')"
      ]
    },
    {
      "cell_type": "code",
      "source": [
        "# Step 2: Install FastQC\n",
        "!conda install -c bioconda fastqc -y"
      ],
      "metadata": {
        "id": "UoXx8yTi4bUg"
      },
      "execution_count": null,
      "outputs": []
    },
    {
      "cell_type": "code",
      "source": [
        "!conda install -c bioconda trimmomatic"
      ],
      "metadata": {
        "colab": {
          "base_uri": "https://localhost:8080/"
        },
        "id": "MfIm9izfEM-0",
        "outputId": "8b4a43c9-8f7a-45fc-ddd2-c5e017b55317"
      },
      "execution_count": 3,
      "outputs": [
        {
          "output_type": "stream",
          "name": "stdout",
          "text": [
            "Channels:\n",
            " - bioconda\n",
            " - defaults\n",
            "Platform: linux-64\n",
            "Collecting package metadata (repodata.json): - \b\b\\ \b\b| \b\b/ \b\b- \b\b\\ \b\b| \b\b/ \b\b- \b\b\\ \b\b| \b\b/ \b\b- \b\bdone\n",
            "Solving environment: | \b\b/ \b\bdone\n",
            "\n",
            "## Package Plan ##\n",
            "\n",
            "  environment location: /usr/local\n",
            "\n",
            "  added / updated specs:\n",
            "    - trimmomatic\n",
            "\n",
            "\n",
            "The following packages will be downloaded:\n",
            "\n",
            "    package                    |            build\n",
            "    ---------------------------|-----------------\n",
            "    trimmomatic-0.39           |       hdfd78af_2         144 KB  bioconda\n",
            "    ------------------------------------------------------------\n",
            "                                           Total:         144 KB\n",
            "\n",
            "The following NEW packages will be INSTALLED:\n",
            "\n",
            "  trimmomatic        bioconda/noarch::trimmomatic-0.39-hdfd78af_2 \n",
            "\n",
            "\n",
            "Proceed ([y]/n)? y\n",
            "\n",
            "\n",
            "Downloading and Extracting Packages:\n",
            "                                                                        \n",
            "Preparing transaction: \\ \b\bdone\n",
            "Verifying transaction: / \b\bdone\n",
            "Executing transaction: \\ \b\bdone\n"
          ]
        }
      ]
    },
    {
      "cell_type": "markdown",
      "source": [
        "We need to download fastq sequence for analysis. We can download it from site or using sra-toolkit.\n"
      ],
      "metadata": {
        "id": "I1eLQeJC8Tgy"
      }
    },
    {
      "cell_type": "code",
      "source": [
        "!sudo apt-get install -y sra-toolkit"
      ],
      "metadata": {
        "colab": {
          "base_uri": "https://localhost:8080/"
        },
        "id": "G7dKz-0U4gs9",
        "outputId": "8eaddc50-c5ca-4c6f-9bf2-d650f8865941"
      },
      "execution_count": 5,
      "outputs": [
        {
          "output_type": "stream",
          "name": "stdout",
          "text": [
            "Reading package lists... Done\n",
            "Building dependency tree... Done\n",
            "Reading state information... Done\n",
            "The following additional packages will be installed:\n",
            "  blends-common libkdf5-2 libncbi-vdb2 libncbi-wvdb2 med-config menu\n",
            "Suggested packages:\n",
            "  blends-doc menu-l10n gksu | kde-runtime | ktsuss\n",
            "The following NEW packages will be installed:\n",
            "  blends-common libkdf5-2 libncbi-vdb2 libncbi-wvdb2 med-config menu\n",
            "  sra-toolkit\n",
            "0 upgraded, 7 newly installed, 0 to remove and 45 not upgraded.\n",
            "Need to get 8,290 kB of archives.\n",
            "After this operation, 23.0 MB of additional disk space will be used.\n",
            "Get:1 http://archive.ubuntu.com/ubuntu jammy/universe amd64 menu amd64 2.1.47ubuntu4 [354 kB]\n",
            "Get:2 http://archive.ubuntu.com/ubuntu jammy/universe amd64 blends-common all 0.7.4ubuntu1 [15.9 kB]\n",
            "Get:3 http://archive.ubuntu.com/ubuntu jammy/universe amd64 libkdf5-2 amd64 2.11.2+dfsg-4build2 [14.7 kB]\n",
            "Get:4 http://archive.ubuntu.com/ubuntu jammy/universe amd64 libncbi-vdb2 amd64 2.11.2+dfsg-4build2 [1,364 kB]\n",
            "Get:5 http://archive.ubuntu.com/ubuntu jammy/universe amd64 libncbi-wvdb2 amd64 2.11.2+dfsg-4build2 [1,252 kB]\n",
            "Get:6 http://archive.ubuntu.com/ubuntu jammy/universe amd64 sra-toolkit amd64 2.11.3+dfsg-1ubuntu1 [5,277 kB]\n",
            "Get:7 http://archive.ubuntu.com/ubuntu jammy/universe amd64 med-config all 3.7.1 [11.6 kB]\n",
            "Fetched 8,290 kB in 0s (40.4 MB/s)\n",
            "debconf: unable to initialize frontend: Dialog\n",
            "debconf: (No usable dialog-like program is installed, so the dialog based frontend cannot be used. at /usr/share/perl5/Debconf/FrontEnd/Dialog.pm line 78, <> line 7.)\n",
            "debconf: falling back to frontend: Readline\n",
            "debconf: unable to initialize frontend: Readline\n",
            "debconf: (This frontend requires a controlling tty.)\n",
            "debconf: falling back to frontend: Teletype\n",
            "dpkg-preconfigure: unable to re-open stdin: \n",
            "Selecting previously unselected package menu.\n",
            "(Reading database ... 121920 files and directories currently installed.)\n",
            "Preparing to unpack .../0-menu_2.1.47ubuntu4_amd64.deb ...\n",
            "Unpacking menu (2.1.47ubuntu4) ...\n",
            "Selecting previously unselected package blends-common.\n",
            "Preparing to unpack .../1-blends-common_0.7.4ubuntu1_all.deb ...\n",
            "Unpacking blends-common (0.7.4ubuntu1) ...\n",
            "Selecting previously unselected package libkdf5-2.\n",
            "Preparing to unpack .../2-libkdf5-2_2.11.2+dfsg-4build2_amd64.deb ...\n",
            "Unpacking libkdf5-2 (2.11.2+dfsg-4build2) ...\n",
            "Selecting previously unselected package libncbi-vdb2.\n",
            "Preparing to unpack .../3-libncbi-vdb2_2.11.2+dfsg-4build2_amd64.deb ...\n",
            "Unpacking libncbi-vdb2 (2.11.2+dfsg-4build2) ...\n",
            "Selecting previously unselected package libncbi-wvdb2.\n",
            "Preparing to unpack .../4-libncbi-wvdb2_2.11.2+dfsg-4build2_amd64.deb ...\n",
            "Unpacking libncbi-wvdb2 (2.11.2+dfsg-4build2) ...\n",
            "Selecting previously unselected package sra-toolkit.\n",
            "Preparing to unpack .../5-sra-toolkit_2.11.3+dfsg-1ubuntu1_amd64.deb ...\n",
            "Unpacking sra-toolkit (2.11.3+dfsg-1ubuntu1) ...\n",
            "Selecting previously unselected package med-config.\n",
            "Preparing to unpack .../6-med-config_3.7.1_all.deb ...\n",
            "Unpacking med-config (3.7.1) ...\n",
            "Setting up libncbi-vdb2 (2.11.2+dfsg-4build2) ...\n",
            "Setting up libkdf5-2 (2.11.2+dfsg-4build2) ...\n",
            "Setting up libncbi-wvdb2 (2.11.2+dfsg-4build2) ...\n",
            "Setting up menu (2.1.47ubuntu4) ...\n",
            "Setting up blends-common (0.7.4ubuntu1) ...\n",
            "Setting up sra-toolkit (2.11.3+dfsg-1ubuntu1) ...\n",
            "Setting up med-config (3.7.1) ...\n",
            "debconf: unable to initialize frontend: Dialog\n",
            "debconf: (No usable dialog-like program is installed, so the dialog based frontend cannot be used. at /usr/share/perl5/Debconf/FrontEnd/Dialog.pm line 78.)\n",
            "debconf: falling back to frontend: Readline\n",
            "Adding group `med' (GID 107) ...\n",
            "Done.\n",
            "Processing triggers for man-db (2.10.2-1) ...\n",
            "Processing triggers for libc-bin (2.35-0ubuntu3.4) ...\n",
            "/sbin/ldconfig.real: /usr/local/lib/libtbb.so.12 is not a symbolic link\n",
            "\n",
            "/sbin/ldconfig.real: /usr/local/lib/libtbbmalloc.so.2 is not a symbolic link\n",
            "\n",
            "/sbin/ldconfig.real: /usr/local/lib/libtbbmalloc_proxy.so.2 is not a symbolic link\n",
            "\n",
            "/sbin/ldconfig.real: /usr/local/lib/libtbbbind.so.3 is not a symbolic link\n",
            "\n",
            "/sbin/ldconfig.real: /usr/local/lib/libtbbbind_2_0.so.3 is not a symbolic link\n",
            "\n",
            "/sbin/ldconfig.real: /usr/local/lib/libtbbbind_2_5.so.3 is not a symbolic link\n",
            "\n",
            "Processing triggers for menu (2.1.47ubuntu4) ...\n"
          ]
        }
      ]
    },
    {
      "cell_type": "markdown",
      "source": [
        "Download FASTQ files: Use the fastq-dump command to directly download FASTQ files from the NCBI SRA. Replace SRA_ACCESSION with the actual accession number of the dataset you want to download."
      ],
      "metadata": {
        "id": "WuTtNGnV87OH"
      }
    },
    {
      "cell_type": "code",
      "source": [
        "!fastq-dump --outdir /content/fastq_files --gzip --skip-technical --readids --dumpbase --split-files SRR27777808\n"
      ],
      "metadata": {
        "colab": {
          "base_uri": "https://localhost:8080/"
        },
        "id": "4tpQgV6V9Kkc",
        "outputId": "39224b91-7697-4ab2-f53c-25b6aa702dab"
      },
      "execution_count": 6,
      "outputs": [
        {
          "output_type": "stream",
          "name": "stdout",
          "text": [
            "Read 86408 spots for SRR27777808\n",
            "Written 86408 spots for SRR27777808\n"
          ]
        }
      ]
    },
    {
      "cell_type": "code",
      "source": [
        "# Step 6: Install Kraken2\n",
        "!conda install -c bioconda kraken2 -y"
      ],
      "metadata": {
        "colab": {
          "base_uri": "https://localhost:8080/"
        },
        "id": "F-SHkvI18dmS",
        "outputId": "45b59a00-f692-4bdd-bcf7-630f1792ecde"
      },
      "execution_count": 8,
      "outputs": [
        {
          "output_type": "stream",
          "name": "stdout",
          "text": [
            "Channels:\n",
            " - bioconda\n",
            " - defaults\n",
            "Platform: linux-64\n",
            "Collecting package metadata (repodata.json): - \b\b\\ \b\b| \b\b/ \b\b- \b\b\\ \b\b| \b\b/ \b\b- \b\b\\ \b\b| \b\b/ \b\b- \b\bdone\n",
            "Solving environment: | \b\b/ \b\bdone\n",
            "\n",
            "## Package Plan ##\n",
            "\n",
            "  environment location: /usr/local\n",
            "\n",
            "  added / updated specs:\n",
            "    - kraken2\n",
            "\n",
            "\n",
            "The following packages will be downloaded:\n",
            "\n",
            "    package                    |            build\n",
            "    ---------------------------|-----------------\n",
            "    blast-2.5.0                |       hc0b0e79_3       137.8 MB  bioconda\n",
            "    boost-1.82.0               |  py312h06a4308_2          11 KB\n",
            "    kraken2-2.0.7_beta         |  pl526h2d50403_0         132 KB  bioconda\n",
            "    libboost-1.82.0            |       h109eef0_2        19.5 MB\n",
            "    perl-5.26.2                |       h14c3975_0        10.5 MB\n",
            "    py-boost-1.82.0            |  py312h6db74b5_2         324 KB\n",
            "    ------------------------------------------------------------\n",
            "                                           Total:       168.2 MB\n",
            "\n",
            "The following NEW packages will be INSTALLED:\n",
            "\n",
            "  blast              bioconda/linux-64::blast-2.5.0-hc0b0e79_3 \n",
            "  boost              pkgs/main/linux-64::boost-1.82.0-py312h06a4308_2 \n",
            "  kraken2            bioconda/linux-64::kraken2-2.0.7_beta-pl526h2d50403_0 \n",
            "  libboost           pkgs/main/linux-64::libboost-1.82.0-h109eef0_2 \n",
            "  py-boost           pkgs/main/linux-64::py-boost-1.82.0-py312h6db74b5_2 \n",
            "\n",
            "The following packages will be DOWNGRADED:\n",
            "\n",
            "  perl                                    5.34.0-h5eee18b_2 --> 5.26.2-h14c3975_0 \n",
            "\n",
            "\n",
            "\n",
            "Downloading and Extracting Packages:\n",
            "blast-2.5.0          | 137.8 MB  | :   0% 0/1 [00:00<?, ?it/s]\n",
            "libboost-1.82.0      | 19.5 MB   | :   0% 0/1 [00:00<?, ?it/s]\u001b[A\n",
            "\n",
            "perl-5.26.2          | 10.5 MB   | :   0% 0/1 [00:00<?, ?it/s]\u001b[A\u001b[A\n",
            "\n",
            "\n",
            "py-boost-1.82.0      | 324 KB    | :   0% 0/1 [00:00<?, ?it/s]\u001b[A\u001b[A\u001b[A\n",
            "\n",
            "\n",
            "\n",
            "kraken2-2.0.7_beta   | 132 KB    | :   0% 0/1 [00:00<?, ?it/s]\u001b[A\u001b[A\u001b[A\u001b[A\n",
            "\n",
            "\n",
            "\n",
            "\n",
            "boost-1.82.0         | 11 KB     | :   0% 0/1 [00:00<?, ?it/s]\u001b[A\u001b[A\u001b[A\u001b[A\u001b[A\n",
            "libboost-1.82.0      | 19.5 MB   | :   0% 0.0008009386782302188/1 [00:00<06:28, 389.31s/it]\u001b[A\n",
            "\n",
            "perl-5.26.2          | 10.5 MB   | :   0% 0.0014944399972854898/1 [00:00<03:27, 208.29s/it]\u001b[A\u001b[A\n",
            "\n",
            "\n",
            "py-boost-1.82.0      | 324 KB    | :   5% 0.0493770606424081/1 [00:00<00:06,  6.87s/it]\u001b[A\u001b[A\u001b[A\n",
            "\n",
            "\n",
            "\n",
            "kraken2-2.0.7_beta   | 132 KB    | :  12% 0.1207912178650683/1 [00:00<00:02,  3.10s/it]\u001b[A\u001b[A\u001b[A\u001b[A\n",
            "\n",
            "\n",
            "\n",
            "\n",
            "boost-1.82.0         | 11 KB     | : 100% 1.0/1 [00:00<00:00,  2.66it/s]\u001b[A\u001b[A\u001b[A\u001b[A\u001b[A\n",
            "libboost-1.82.0      | 19.5 MB   | :  20% 0.20263748559224537/1 [00:00<00:01,  1.62s/it]   \u001b[A\n",
            "\n",
            "blast-2.5.0          | 137.8 MB  | :   0% 0.00011337743496881321/1 [00:00<1:06:29, 3990.20s/it]\n",
            "\n",
            "\n",
            "\n",
            "\n",
            "boost-1.82.0         | 11 KB     | : 100% 1.0/1 [00:00<00:00,  2.66it/s]\u001b[A\u001b[A\u001b[A\u001b[A\u001b[A\n",
            "libboost-1.82.0      | 19.5 MB   | :  34% 0.33799612221315234/1 [00:00<00:00,  1.19s/it]\u001b[A\n",
            "\n",
            "blast-2.5.0          | 137.8 MB  | :   2% 0.021088202904199257/1 [00:00<00:20, 20.60s/it]      \n",
            "libboost-1.82.0      | 19.5 MB   | :  46% 0.4589378626259154/1 [00:00<00:00,  1.09s/it] \u001b[A\n",
            "\n",
            "blast-2.5.0          | 137.8 MB  | :   4% 0.03798144071455243/1 [00:00<00:12, 12.96s/it] \n",
            "blast-2.5.0          | 137.8 MB  | :   6% 0.060997060013221506/1 [00:00<00:08,  8.59s/it]\n",
            "blast-2.5.0          | 137.8 MB  | :   8% 0.08208526291742077/1 [00:00<00:06,  7.14s/it] \n",
            "\n",
            "\n",
            "\n",
            "kraken2-2.0.7_beta   | 132 KB    | : 100% 1.0/1 [00:00<00:00,  1.20it/s]               \u001b[A\u001b[A\u001b[A\u001b[A\n",
            "\n",
            "\n",
            "\n",
            "kraken2-2.0.7_beta   | 132 KB    | : 100% 1.0/1 [00:00<00:00,  1.20it/s]\u001b[A\u001b[A\u001b[A\u001b[A\n",
            "blast-2.5.0          | 137.8 MB  | :  15% 0.14897794954902055/1 [00:01<00:04,  5.35s/it]\n",
            "\n",
            "\n",
            "py-boost-1.82.0      | 324 KB    | : 100% 1.0/1 [00:01<00:00,  1.20s/it]               \u001b[A\u001b[A\u001b[A\n",
            "\n",
            "\n",
            "blast-2.5.0          | 137.8 MB  | :  99% 0.9892181201028952/1 [00:04<00:00,  2.84s/it]\n",
            "\n",
            "perl-5.26.2          | 10.5 MB   | : 100% 1.0/1 [00:06<00:00,  1.65it/s]              \u001b[A\u001b[A\n",
            "                                                                        \n",
            "                                                                        \u001b[A\n",
            "\n",
            "                                                                        \u001b[A\u001b[A\n",
            "\n",
            "\n",
            "                                                                        \u001b[A\u001b[A\u001b[A\n",
            "\n",
            "\n",
            "\n",
            "                                                                        \u001b[A\u001b[A\u001b[A\u001b[A\n",
            "\n",
            "\n",
            "\n",
            "\n",
            "                                                                        \u001b[A\u001b[A\u001b[A\u001b[A\u001b[A\n",
            "Preparing transaction: \\ \b\b| \b\b/ \b\b- \b\b\\ \b\b| \b\bdone\n",
            "Verifying transaction: - \b\b\\ \b\b| \b\b/ \b\b- \b\b\\ \b\b| \b\b/ \b\b- \b\b\\ \b\b| \b\b/ \b\b- \b\b\\ \b\b| \b\b/ \b\b- \b\b\\ \b\b| \b\b/ \b\b- \b\b\\ \b\b| \b\b/ \b\b- \b\b\\ \b\b| \b\b/ \b\b- \b\b\\ \b\b| \b\b/ \b\b- \b\b\\ \b\b| \b\b/ \b\b- \b\b\\ \b\b| \b\b/ \b\b- \b\b\\ \b\b| \b\b/ \b\b- \b\b\\ \b\b| \b\b/ \b\b- \b\b\\ \b\b| \b\b/ \b\b- \b\b\\ \b\b| \b\b/ \b\b- \b\b\\ \b\b| \b\b/ \b\b- \b\b\\ \b\b| \b\b/ \b\b- \b\b\\ \b\b| \b\b/ \b\b- \b\b\\ \b\b| \b\b/ \b\b- \b\b\\ \b\b| \b\b/ \b\b- \b\b\\ \b\b| \b\b/ \b\bdone\n",
            "Executing transaction: \\ \b\b| \b\b/ \b\b- \b\b\\ \b\b| \b\b/ \b\b- \b\b\\ \b\b| \b\b/ \b\b- \b\b\\ \b\b| \b\b/ \b\b- \b\b\\ \b\b| \b\b/ \b\b- \b\b\\ \b\b| \b\b/ \b\b- \b\b\\ \b\b| \b\b/ \b\b- \b\b\\ \b\b| \b\bdone\n"
          ]
        }
      ]
    },
    {
      "cell_type": "markdown",
      "source": [
        "##Running FastQC"
      ],
      "metadata": {
        "id": "q-MzWI9c_CqV"
      }
    },
    {
      "cell_type": "code",
      "source": [
        "!fastqc '/content/fastq_files/SRR27777808_1.fastq.gz' '/content/fastq_files/SRR27777808_2.fastq.gz' -o '/content/fastqc_output'"
      ],
      "metadata": {
        "colab": {
          "base_uri": "https://localhost:8080/"
        },
        "id": "IAhwbplf_Fdo",
        "outputId": "46245113-21a4-47d4-fed8-f0e92597777b"
      },
      "execution_count": 7,
      "outputs": [
        {
          "output_type": "stream",
          "name": "stdout",
          "text": [
            "application/gzip\n",
            "application/gzip\n",
            "Started analysis of SRR27777808_1.fastq.gz\n",
            "Approx 5% complete for SRR27777808_1.fastq.gz\n",
            "Approx 10% complete for SRR27777808_1.fastq.gz\n",
            "Approx 15% complete for SRR27777808_1.fastq.gz\n",
            "Approx 20% complete for SRR27777808_1.fastq.gz\n",
            "Approx 25% complete for SRR27777808_1.fastq.gz\n",
            "Approx 30% complete for SRR27777808_1.fastq.gz\n",
            "Approx 35% complete for SRR27777808_1.fastq.gz\n",
            "Approx 40% complete for SRR27777808_1.fastq.gz\n",
            "Approx 45% complete for SRR27777808_1.fastq.gz\n",
            "Approx 50% complete for SRR27777808_1.fastq.gz\n",
            "Approx 55% complete for SRR27777808_1.fastq.gz\n",
            "Approx 60% complete for SRR27777808_1.fastq.gz\n",
            "Approx 65% complete for SRR27777808_1.fastq.gz\n",
            "Approx 70% complete for SRR27777808_1.fastq.gz\n",
            "Approx 75% complete for SRR27777808_1.fastq.gz\n",
            "Approx 80% complete for SRR27777808_1.fastq.gz\n",
            "Approx 85% complete for SRR27777808_1.fastq.gz\n",
            "Approx 90% complete for SRR27777808_1.fastq.gz\n",
            "Approx 95% complete for SRR27777808_1.fastq.gz\n",
            "Analysis complete for SRR27777808_1.fastq.gz\n",
            "Started analysis of SRR27777808_2.fastq.gz\n",
            "Approx 5% complete for SRR27777808_2.fastq.gz\n",
            "Approx 10% complete for SRR27777808_2.fastq.gz\n",
            "Approx 15% complete for SRR27777808_2.fastq.gz\n",
            "Approx 20% complete for SRR27777808_2.fastq.gz\n",
            "Approx 25% complete for SRR27777808_2.fastq.gz\n",
            "Approx 30% complete for SRR27777808_2.fastq.gz\n",
            "Approx 35% complete for SRR27777808_2.fastq.gz\n",
            "Approx 40% complete for SRR27777808_2.fastq.gz\n",
            "Approx 45% complete for SRR27777808_2.fastq.gz\n",
            "Approx 50% complete for SRR27777808_2.fastq.gz\n",
            "Approx 55% complete for SRR27777808_2.fastq.gz\n",
            "Approx 60% complete for SRR27777808_2.fastq.gz\n",
            "Approx 65% complete for SRR27777808_2.fastq.gz\n",
            "Approx 70% complete for SRR27777808_2.fastq.gz\n",
            "Approx 75% complete for SRR27777808_2.fastq.gz\n",
            "Approx 80% complete for SRR27777808_2.fastq.gz\n",
            "Approx 85% complete for SRR27777808_2.fastq.gz\n",
            "Approx 90% complete for SRR27777808_2.fastq.gz\n",
            "Approx 95% complete for SRR27777808_2.fastq.gz\n",
            "Analysis complete for SRR27777808_2.fastq.gz\n"
          ]
        }
      ]
    },
    {
      "cell_type": "code",
      "source": [
        "!ls /content/fastqc_output"
      ],
      "metadata": {
        "colab": {
          "base_uri": "https://localhost:8080/"
        },
        "id": "zviVbcab_xyZ",
        "outputId": "38218906-7944-4ad2-d974-e92d8461f55f"
      },
      "execution_count": 18,
      "outputs": [
        {
          "output_type": "stream",
          "name": "stdout",
          "text": [
            "SRR27777808_1_fastqc.html  SRR27777808_2_fastqc.html\n",
            "SRR27777808_1_fastqc.zip   SRR27777808_2_fastqc.zip\n"
          ]
        }
      ]
    },
    {
      "cell_type": "markdown",
      "source": [
        "to open html file we need to import HTML"
      ],
      "metadata": {
        "id": "NICOSSLLAviX"
      }
    },
    {
      "cell_type": "markdown",
      "source": [
        "download the .html files to local disk and open in browser anc check different parameters."
      ],
      "metadata": {
        "id": "eMzXbcSTD1EE"
      }
    },
    {
      "cell_type": "markdown",
      "source": [
        "##Trimming"
      ],
      "metadata": {
        "id": "umtDhOMy7MIp"
      }
    },
    {
      "cell_type": "markdown",
      "source": [
        "We need to install trimmomatic tool to trim sequences for low quality nucleotides, adapters and primers. You can also use other tools.\n",
        "cutadapt requires python version more than 3.4 so we will create new conda environment and install trim-galore."
      ],
      "metadata": {
        "id": "ZcAuc5LNEV7-"
      }
    },
    {
      "cell_type": "code",
      "source": [
        "!trimmomatic PE '/content/fastq_files/SRR27777808_1.fastq.gz' '/content/fastq_files/SRR27777808_2.fastq.gz' output_forward_paired.fastq.gz output_forward_unpaired.fastq.gz output_reverse_paired.fastq.gz output_reverse_unpaired.fastq.gz ILLUMINACLIP:adapters.fa:2:30:10 LEADING:3 TRAILING:3 SLIDINGWINDOW:4:15 MINLEN:36\n"
      ],
      "metadata": {
        "colab": {
          "base_uri": "https://localhost:8080/"
        },
        "id": "NsyWQG8CGWV-",
        "outputId": "f3e7f415-d4d8-4ac1-eb5d-883a3419e137"
      },
      "execution_count": 7,
      "outputs": [
        {
          "output_type": "stream",
          "name": "stdout",
          "text": [
            "TrimmomaticPE: Started with arguments:\n",
            " /content/fastq_files/SRR27777808_1.fastq.gz /content/fastq_files/SRR27777808_2.fastq.gz output_forward_paired.fastq.gz output_forward_unpaired.fastq.gz output_reverse_paired.fastq.gz output_reverse_unpaired.fastq.gz ILLUMINACLIP:adapters.fa:2:30:10 LEADING:3 TRAILING:3 SLIDINGWINDOW:4:15 MINLEN:36\n",
            "Multiple cores found: Using 2 threads\n",
            "java.io.FileNotFoundException: /content/adapters.fa (No such file or directory)\n",
            "\tat java.base/java.io.FileInputStream.open0(Native Method)\n",
            "\tat java.base/java.io.FileInputStream.open(FileInputStream.java:219)\n",
            "\tat java.base/java.io.FileInputStream.<init>(FileInputStream.java:157)\n",
            "\tat org.usadellab.trimmomatic.fasta.FastaParser.parse(FastaParser.java:54)\n",
            "\tat org.usadellab.trimmomatic.trim.IlluminaClippingTrimmer.loadSequences(IlluminaClippingTrimmer.java:110)\n",
            "\tat org.usadellab.trimmomatic.trim.IlluminaClippingTrimmer.makeIlluminaClippingTrimmer(IlluminaClippingTrimmer.java:71)\n",
            "\tat org.usadellab.trimmomatic.trim.TrimmerFactory.makeTrimmer(TrimmerFactory.java:32)\n",
            "\tat org.usadellab.trimmomatic.Trimmomatic.createTrimmers(Trimmomatic.java:59)\n",
            "\tat org.usadellab.trimmomatic.TrimmomaticPE.run(TrimmomaticPE.java:552)\n",
            "\tat org.usadellab.trimmomatic.Trimmomatic.main(Trimmomatic.java:80)\n",
            "Quality encoding detected as phred33\n",
            "Input Read Pairs: 86408 Both Surviving: 83493 (96.63%) Forward Only Surviving: 2695 (3.12%) Reverse Only Surviving: 123 (0.14%) Dropped: 97 (0.11%)\n",
            "TrimmomaticPE: Completed successfully\n"
          ]
        }
      ]
    },
    {
      "cell_type": "markdown",
      "source": [
        "The output from Trimmomatic provides information about the trimming process and the resulting read pairs. Here's how to interpret it:\n",
        "\n",
        "Quality Encoding: Trimmomatic detected the quality encoding of your input fastq files. Phred33 is a common quality encoding format used in Illumina sequencing data.\n",
        "Input Read Pairs: This indicates the total number of read pairs in your input fastq files.\n",
        "Both Surviving: The number and percentage of read pairs where both the forward and reverse reads passed the trimming process successfully. These are the read pairs that were retained after trimming.\n",
        "Forward Only Surviving: The number and percentage of read pairs where only the forward read passed the trimming process successfully. These read pairs are retained, but the reverse reads were discarded.\n",
        "Reverse Only Surviving: The number and percentage of read pairs where only the reverse read passed the trimming process successfully. These read pairs are retained, but the forward reads were discarded.\n",
        "Dropped: The number and percentage of read pairs that were dropped or discarded during the trimming process.\n",
        "In your case, the trimming process was successful, and the majority of read pairs (96.63%) passed the trimming process with both forward and reverse reads surviving. Only a small percentage of read pairs had one of the reads discarded."
      ],
      "metadata": {
        "id": "Y8GpKYOh72j2"
      }
    },
    {
      "cell_type": "markdown",
      "source": [
        "##Taxonomical classification"
      ],
      "metadata": {
        "id": "C57x0cUl9EkL"
      }
    },
    {
      "cell_type": "markdown",
      "source": [
        "\n",
        "Kraken2 is a powerful tool used for taxonomic classification of DNA sequences, particularly in metagenomic studies where the source of the sequences is a complex mixture of different organisms. Kraken2 employs a k-mer-based approach to classify sequences, which allows it to achieve high sensitivity and specificity in taxonomic classification, even with short sequence reads.\n",
        "Overall, Kraken2 is a valuable tool for studying microbial communities in various environments, including soil, water, human gut, and more, providing insights into the composition and diversity of these complex ecosystems."
      ],
      "metadata": {
        "id": "G_w6W1tr-JIP"
      }
    },
    {
      "cell_type": "code",
      "source": [
        "!wget https://genome-idx.s3.amazonaws.com/kraken/k2_viral_20231009.tar.gz"
      ],
      "metadata": {
        "colab": {
          "base_uri": "https://localhost:8080/"
        },
        "id": "WqjxdK_i7-K7",
        "outputId": "a0e24341-e157-4639-c364-9e96aeb617bf"
      },
      "execution_count": 11,
      "outputs": [
        {
          "output_type": "stream",
          "name": "stdout",
          "text": [
            "--2024-05-08 16:25:23--  https://genome-idx.s3.amazonaws.com/kraken/k2_viral_20231009.tar.gz\n",
            "Resolving genome-idx.s3.amazonaws.com (genome-idx.s3.amazonaws.com)... 3.5.10.16, 52.216.57.161, 52.216.105.67, ...\n",
            "Connecting to genome-idx.s3.amazonaws.com (genome-idx.s3.amazonaws.com)|3.5.10.16|:443... connected.\n",
            "HTTP request sent, awaiting response... 200 OK\n",
            "Length: 506414133 (483M) [application/x-tar]\n",
            "Saving to: ‘k2_viral_20231009.tar.gz’\n",
            "\n",
            "k2_viral_20231009.t 100%[===================>] 482.95M  23.2MB/s    in 21s     \n",
            "\n",
            "2024-05-08 16:25:44 (23.4 MB/s) - ‘k2_viral_20231009.tar.gz’ saved [506414133/506414133]\n",
            "\n"
          ]
        }
      ]
    },
    {
      "cell_type": "markdown",
      "source": [
        "NOTE: here for the sake of simplicity I downloaded the smallest database available in the site. You need to download related database for analysis.\n",
        "The site address is:\n",
        "https://benlangmead.github.io/aws-indexes/k2"
      ],
      "metadata": {
        "id": "j2UI9umSBrpU"
      }
    },
    {
      "cell_type": "markdown",
      "source": [
        "Unzipping the database file and saving it to a folder"
      ],
      "metadata": {
        "id": "fmhdRzu5DmDM"
      }
    },
    {
      "cell_type": "code",
      "source": [
        "!mkdir kraken_viral_db\n",
        "!tar -zxvf k2_viral_20231009.tar.gz -C kraken_viral_db"
      ],
      "metadata": {
        "colab": {
          "base_uri": "https://localhost:8080/"
        },
        "id": "eTaRC_FkDswI",
        "outputId": "5563349f-8329-4333-c5b8-49b68cb3d320"
      },
      "execution_count": 15,
      "outputs": [
        {
          "output_type": "stream",
          "name": "stdout",
          "text": [
            "mkdir: cannot create directory ‘kraken_viral_db’: File exists\n",
            "hash.k2d\n",
            "opts.k2d\n",
            "taxo.k2d\n",
            "seqid2taxid.map\n",
            "inspect.txt\n",
            "database100mers.kmer_distrib\n",
            "database150mers.kmer_distrib\n",
            "database200mers.kmer_distrib\n",
            "database250mers.kmer_distrib\n",
            "database300mers.kmer_distrib\n",
            "database50mers.kmer_distrib\n",
            "database75mers.kmer_distrib\n",
            "ktaxonomy.tsv\n",
            "library_report.tsv\n"
          ]
        }
      ]
    },
    {
      "cell_type": "code",
      "source": [
        "!ls -lhrt /content/kraken_viral_db"
      ],
      "metadata": {
        "colab": {
          "base_uri": "https://localhost:8080/"
        },
        "id": "DtM4diCWECUv",
        "outputId": "e2c6cf0f-fddd-4abd-d6b7-817079cbeed9"
      },
      "execution_count": 17,
      "outputs": [
        {
          "output_type": "stream",
          "name": "stdout",
          "text": [
            "total 633M\n",
            "-rw-r--r-- 1 root root 733K Oct  5  2023 seqid2taxid.map\n",
            "-rw-r--r-- 1 root root 2.1M Oct  5  2023 taxo.k2d\n",
            "-rw-r--r-- 1 root root 619M Oct  5  2023 hash.k2d\n",
            "-rw-r--r-- 1 root root   64 Oct  5  2023 opts.k2d\n",
            "-rw-r--r-- 1 root root 1.7M Oct  5  2023 inspect.txt\n",
            "-rw-r--r-- 1 root root 1.4M Oct  5  2023 ktaxonomy.tsv\n",
            "-rw-r--r-- 1 root root 877K Oct  5  2023 database50mers.kmer_distrib\n",
            "-rw-r--r-- 1 root root 795K Oct  5  2023 database75mers.kmer_distrib\n",
            "-rw-r--r-- 1 root root 730K Oct  5  2023 database100mers.kmer_distrib\n",
            "-rw-r--r-- 1 root root 637K Oct  5  2023 database150mers.kmer_distrib\n",
            "-rw-r--r-- 1 root root 586K Oct  5  2023 database200mers.kmer_distrib\n",
            "-rw-r--r-- 1 root root 559K Oct  5  2023 database250mers.kmer_distrib\n",
            "-rw-r--r-- 1 root root 3.9M Oct  5  2023 library_report.tsv\n",
            "-rw-r--r-- 1 root root 543K Oct  5  2023 database300mers.kmer_distrib\n"
          ]
        }
      ]
    },
    {
      "cell_type": "code",
      "source": [
        "!kraken2 --db '/content/kraken_viral_db' --paired '/content/output_forward_unpaired.fastq.gz' '/content/output_reverse_unpaired.fastq.gz' > kraken_output --report kraken_report"
      ],
      "metadata": {
        "colab": {
          "base_uri": "https://localhost:8080/"
        },
        "id": "P_F_7rP9B-vd",
        "outputId": "709b4f34-bd76-486e-9315-b813cb5090ba"
      },
      "execution_count": 18,
      "outputs": [
        {
          "output_type": "stream",
          "name": "stdout",
          "text": [
            "Loading database information... done.\n",
            "123 sequences (0.04 Mbp) processed in 0.019s (396.0 Kseq/m, 112.97 Mbp/m).\n",
            "  0 sequences classified (0.00%)\n",
            "  123 sequences unclassified (100.00%)\n"
          ]
        }
      ]
    },
    {
      "cell_type": "markdown",
      "source": [
        "Here since the database is not related to the query sequence we got 0 sequences classified. If we used correct database i.e minusB (size: 6.5GB) we could have got an output file which can be used for further analysis."
      ],
      "metadata": {
        "id": "qU-_QrLSFmRg"
      }
    },
    {
      "cell_type": "markdown",
      "source": [
        "##Preparing output"
      ],
      "metadata": {
        "id": "5KSex283GOTu"
      }
    },
    {
      "cell_type": "markdown",
      "source": [
        "\n",
        "\n",
        "*   Download the output file and open in excel\n",
        "*   Edit first column name as \"#OTU_ID\", \"sample1...\",\"Kingdom\",\"Phylum\",\"Class\",\"Order\",\"Family\",\"Genus\",\"Species\".\n",
        "*   Remove preceeding letters such as K_,P_ from each row.\n",
        "*   Create 4 excel files named:\n",
        "1.   taxonomy : copy \"#OTU_ID\" and rename it as \"#TAXONOLY\" and rest columns such as \"Kingdom\",\"Phylum\",\"Class\",\"Order\",\"Family\",\"Genus\",\"Species\".\n",
        "2.   counts: copy only \"#OTU_ID\" and \"sample\" columns and save.\n",
        "3. metadata: here only two columns \"#NAME\" and \"group\", where first column contains only list of samples (1,2,3...) and second column whether \"control\" or \"treatment\".\n",
        "\n",
        "\n",
        "\n"
      ],
      "metadata": {
        "id": "8RKCGqmiGUKR"
      }
    },
    {
      "cell_type": "markdown",
      "source": [
        "##MicrobiomeAnalyst"
      ],
      "metadata": {
        "id": "8d5squAWIqrz"
      }
    },
    {
      "cell_type": "markdown",
      "source": [
        "Open the site Microbiome analyst\n",
        "https://www.microbiomeanalyst.ca/MicrobiomeAnalyst/home.xhtml\n",
        "\"click to start\" -> \"marker data profiling\" -> \"for OTU /ASV table \" upload count.xlsx file.\n",
        "Similarly other two files below.\n",
        "Then follow with submit button and analyse for different paramenters."
      ],
      "metadata": {
        "id": "MGnScr_QIvOr"
      }
    },
    {
      "cell_type": "markdown",
      "source": [
        "##Pavian"
      ],
      "metadata": {
        "id": "2UssS97fJkL7"
      }
    },
    {
      "cell_type": "markdown",
      "source": [
        "Pavian is a visualization and analysis tool specifically designed for exploring and understanding the results of metagenomic analyses, particularly those generated from tools like Kraken and Kraken2. It provides interactive visualizations to explore taxonomic assignments and their abundances in the metagenomic data.\n",
        "We need to upload report file which we received from the Kraken2 tool.\n",
        "\n",
        "https://fbreitwieser.shinyapps.io/pavian/#"
      ],
      "metadata": {
        "id": "IVaJbK_kKzWU"
      }
    },
    {
      "cell_type": "markdown",
      "source": [
        "#**END OF PIPELINE**\n",
        "All the Best"
      ],
      "metadata": {
        "id": "pbexIT7YJ_-J"
      }
    }
  ]
}